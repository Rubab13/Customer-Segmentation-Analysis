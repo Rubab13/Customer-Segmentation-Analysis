{
 "cells": [
  {
   "cell_type": "markdown",
   "id": "f1831dd5-b3eb-46ee-bdba-fa399299a47f",
   "metadata": {},
   "source": [
    "<h1 style='color:#0B4F6C;font-weight:bold;text-align:center;font-size:3rem;'>Customer Segmentation</h1>\n"
   ]
  },
  {
   "cell_type": "markdown",
   "id": "3d5efeff-52e2-4ae8-878a-504046c7e65c",
   "metadata": {},
   "source": [
    "<div>\n",
    "    <h2 style='color:#1e555c;font-weight:bold;font-size:1.5rem;padding:1rem 0;'>Importing libraries</h2>\n",
    "</div>"
   ]
  },
  {
   "cell_type": "code",
   "execution_count": 61,
   "id": "108b89a7-e6a0-473a-a3c5-84dd598e2a3a",
   "metadata": {},
   "outputs": [],
   "source": [
    "import numpy as np\n",
    "import pandas as pd\n",
    "import matplotlib.pyplot as plt\n",
    "import seaborn as sns\n",
    "from sklearn.cluster import KMeans"
   ]
  },
  {
   "cell_type": "markdown",
   "id": "2dd31d11-f729-40f1-b9f9-5786364db59d",
   "metadata": {},
   "source": [
    "<div>\n",
    "    <h2 style='color:#1e555c;font-weight:bold;font-size:1.5rem;padding:1rem 0;'>Importing data</h2>\n",
    "</div>"
   ]
  },
  {
   "cell_type": "code",
   "execution_count": 62,
   "id": "ce139f3a-f153-43a3-a4df-013e51ceaa0d",
   "metadata": {},
   "outputs": [],
   "source": [
    "data = pd.read_csv('Mall_Customers.csv')"
   ]
  },
  {
   "cell_type": "code",
   "execution_count": 63,
   "id": "2b236a45-0423-4ac9-a55b-43e33b1823f5",
   "metadata": {},
   "outputs": [
    {
     "data": {
      "text/html": [
       "<div>\n",
       "<style scoped>\n",
       "    .dataframe tbody tr th:only-of-type {\n",
       "        vertical-align: middle;\n",
       "    }\n",
       "\n",
       "    .dataframe tbody tr th {\n",
       "        vertical-align: top;\n",
       "    }\n",
       "\n",
       "    .dataframe thead th {\n",
       "        text-align: right;\n",
       "    }\n",
       "</style>\n",
       "<table border=\"1\" class=\"dataframe\">\n",
       "  <thead>\n",
       "    <tr style=\"text-align: right;\">\n",
       "      <th></th>\n",
       "      <th>CustomerID</th>\n",
       "      <th>Gender</th>\n",
       "      <th>Age</th>\n",
       "      <th>Annual Income (k$)</th>\n",
       "      <th>Spending Score (1-100)</th>\n",
       "    </tr>\n",
       "  </thead>\n",
       "  <tbody>\n",
       "    <tr>\n",
       "      <th>0</th>\n",
       "      <td>1</td>\n",
       "      <td>Male</td>\n",
       "      <td>19</td>\n",
       "      <td>15</td>\n",
       "      <td>39</td>\n",
       "    </tr>\n",
       "    <tr>\n",
       "      <th>1</th>\n",
       "      <td>2</td>\n",
       "      <td>Male</td>\n",
       "      <td>21</td>\n",
       "      <td>15</td>\n",
       "      <td>81</td>\n",
       "    </tr>\n",
       "    <tr>\n",
       "      <th>2</th>\n",
       "      <td>3</td>\n",
       "      <td>Female</td>\n",
       "      <td>20</td>\n",
       "      <td>16</td>\n",
       "      <td>6</td>\n",
       "    </tr>\n",
       "    <tr>\n",
       "      <th>3</th>\n",
       "      <td>4</td>\n",
       "      <td>Female</td>\n",
       "      <td>23</td>\n",
       "      <td>16</td>\n",
       "      <td>77</td>\n",
       "    </tr>\n",
       "    <tr>\n",
       "      <th>4</th>\n",
       "      <td>5</td>\n",
       "      <td>Female</td>\n",
       "      <td>31</td>\n",
       "      <td>17</td>\n",
       "      <td>40</td>\n",
       "    </tr>\n",
       "  </tbody>\n",
       "</table>\n",
       "</div>"
      ],
      "text/plain": [
       "   CustomerID  Gender  Age  Annual Income (k$)  Spending Score (1-100)\n",
       "0           1    Male   19                  15                      39\n",
       "1           2    Male   21                  15                      81\n",
       "2           3  Female   20                  16                       6\n",
       "3           4  Female   23                  16                      77\n",
       "4           5  Female   31                  17                      40"
      ]
     },
     "execution_count": 63,
     "metadata": {},
     "output_type": "execute_result"
    }
   ],
   "source": [
    "data.head()"
   ]
  },
  {
   "cell_type": "markdown",
   "id": "f0e112df-7343-444b-b8cc-3c18af22642f",
   "metadata": {},
   "source": [
    "<div>\n",
    "    <h2 style='color:#1e555c;font-weight:bold;font-size:1.5rem;padding:1rem 0;'>Shape of data</h2>\n",
    "</div>"
   ]
  },
  {
   "cell_type": "code",
   "execution_count": 64,
   "id": "d562b8e6-e2bd-4c72-aba7-55e9e82b5b2f",
   "metadata": {},
   "outputs": [
    {
     "data": {
      "text/plain": [
       "(200, 5)"
      ]
     },
     "execution_count": 64,
     "metadata": {},
     "output_type": "execute_result"
    }
   ],
   "source": [
    "data.shape"
   ]
  },
  {
   "cell_type": "markdown",
   "id": "3aae6028-6f8c-47d3-a9dd-902e60d37bd9",
   "metadata": {},
   "source": [
    "<div style='background-color:#595758;padding:1rem;margin:3rem 0;border-radius:0.5rem;'>\n",
    "    <p style='color:#FFEEF2;font-weight:400;font-size:1.3rem;display:inline;'>200 rows with 5 columns.</p>\n",
    "</div>"
   ]
  },
  {
   "cell_type": "markdown",
   "id": "62e5f0b3-9ccc-486f-b0d0-efa990c46012",
   "metadata": {},
   "source": [
    "<div>\n",
    "    <h2 style='color:#1e555c;font-weight:bold;font-size:1.5rem;padding:1rem 0;'>Columns of data</h2>\n",
    "</div>"
   ]
  },
  {
   "cell_type": "code",
   "execution_count": 65,
   "id": "f3f43ffc-eb8c-406a-8705-7e7c22f30bf4",
   "metadata": {},
   "outputs": [
    {
     "name": "stdout",
     "output_type": "stream",
     "text": [
      "CustomerID\n",
      "Gender\n",
      "Age\n",
      "Annual Income (k$)\n",
      "Spending Score (1-100)\n"
     ]
    }
   ],
   "source": [
    "for col in data.columns:\n",
    "    print(col)"
   ]
  },
  {
   "cell_type": "markdown",
   "id": "f706fc41-cd46-4c48-9232-135545887724",
   "metadata": {},
   "source": [
    "<hr style=\"border-top: 2px solid #333;margin:30px 0;\">"
   ]
  },
  {
   "cell_type": "markdown",
   "id": "348d913e-e137-4915-b2a2-db1aedb6ca2c",
   "metadata": {},
   "source": [
    "<div>\n",
    "    <h2 style='color:#1e555c;font-weight:bold;font-size:1.5rem;padding:1rem 0;'>Data Exploration</h2>\n",
    "</div>"
   ]
  },
  {
   "cell_type": "markdown",
   "id": "6d364a3f-0b3a-41af-b3d6-8dd14ef0e9af",
   "metadata": {},
   "source": [
    "<div>\n",
    "    <h2 style='color:#1e555c;font-weight:bold;font-size:1rem;'>Customer ID</h2>\n",
    "</div>"
   ]
  },
  {
   "cell_type": "code",
   "execution_count": 66,
   "id": "023cdc22-5c16-4cf0-9691-65e5935398b7",
   "metadata": {},
   "outputs": [
    {
     "data": {
      "text/plain": [
       "array([  1,   2,   3,   4,   5,   6,   7,   8,   9,  10,  11,  12,  13,\n",
       "        14,  15,  16,  17,  18,  19,  20,  21,  22,  23,  24,  25,  26,\n",
       "        27,  28,  29,  30,  31,  32,  33,  34,  35,  36,  37,  38,  39,\n",
       "        40,  41,  42,  43,  44,  45,  46,  47,  48,  49,  50,  51,  52,\n",
       "        53,  54,  55,  56,  57,  58,  59,  60,  61,  62,  63,  64,  65,\n",
       "        66,  67,  68,  69,  70,  71,  72,  73,  74,  75,  76,  77,  78,\n",
       "        79,  80,  81,  82,  83,  84,  85,  86,  87,  88,  89,  90,  91,\n",
       "        92,  93,  94,  95,  96,  97,  98,  99, 100, 101, 102, 103, 104,\n",
       "       105, 106, 107, 108, 109, 110, 111, 112, 113, 114, 115, 116, 117,\n",
       "       118, 119, 120, 121, 122, 123, 124, 125, 126, 127, 128, 129, 130,\n",
       "       131, 132, 133, 134, 135, 136, 137, 138, 139, 140, 141, 142, 143,\n",
       "       144, 145, 146, 147, 148, 149, 150, 151, 152, 153, 154, 155, 156,\n",
       "       157, 158, 159, 160, 161, 162, 163, 164, 165, 166, 167, 168, 169,\n",
       "       170, 171, 172, 173, 174, 175, 176, 177, 178, 179, 180, 181, 182,\n",
       "       183, 184, 185, 186, 187, 188, 189, 190, 191, 192, 193, 194, 195,\n",
       "       196, 197, 198, 199, 200], dtype=int64)"
      ]
     },
     "execution_count": 66,
     "metadata": {},
     "output_type": "execute_result"
    }
   ],
   "source": [
    "data['CustomerID'].unique()"
   ]
  },
  {
   "cell_type": "markdown",
   "id": "f41f2306-109a-4ed9-9b53-ec5a1bf8fa86",
   "metadata": {},
   "source": [
    "<div style='background-color:#595758;padding:1rem;margin:3rem 0;border-radius:0.5rem;'>\n",
    "    <p style='color:#FFEEF2;font-weight:400;font-size:1.3rem;display:inline;'>There are 200 rows in our data and the 'Customer ID' column contains 200 rows, each with a dinstict value from 1 to 200. So, this column uniquely identifies each row and doesn't adds to our analysis.</p>\n",
    "</div>"
   ]
  },
  {
   "cell_type": "markdown",
   "id": "9e3b9ee8-8d61-4bd6-841b-325c505aa7d8",
   "metadata": {},
   "source": [
    "<div>\n",
    "    <h2 style='color:#1e555c;font-weight:bold;font-size:1rem;'>Gender</h2>\n",
    "</div>"
   ]
  },
  {
   "cell_type": "code",
   "execution_count": 67,
   "id": "445cc986-6a46-4c0a-b5f8-d80044eb2620",
   "metadata": {},
   "outputs": [
    {
     "data": {
      "text/plain": [
       "array(['Male', 'Female'], dtype=object)"
      ]
     },
     "execution_count": 67,
     "metadata": {},
     "output_type": "execute_result"
    }
   ],
   "source": [
    "data['Gender'].unique()"
   ]
  },
  {
   "cell_type": "code",
   "execution_count": 68,
   "id": "471f2d93-b188-49fe-a628-8a8adfdbf580",
   "metadata": {},
   "outputs": [
    {
     "data": {
      "text/plain": [
       "Gender\n",
       "Female    112\n",
       "Male       88\n",
       "Name: count, dtype: int64"
      ]
     },
     "execution_count": 68,
     "metadata": {},
     "output_type": "execute_result"
    }
   ],
   "source": [
    "data['Gender'].value_counts()"
   ]
  },
  {
   "cell_type": "markdown",
   "id": "5c467678-3fa4-4312-8b00-2b7a000a49b5",
   "metadata": {},
   "source": [
    "<div style='background-color:#595758;padding:1rem;margin:3rem 0;border-radius:0.5rem;'>\n",
    "    <p style='color:#FFEEF2;font-weight:400;font-size:1.3rem;display:inline;'>Female count rate is higher.</p>\n",
    "</div>"
   ]
  },
  {
   "cell_type": "code",
   "execution_count": 69,
   "id": "ed65b9de-cd3f-4ec2-82ee-9369c08b4e78",
   "metadata": {},
   "outputs": [
    {
     "data": {
      "text/plain": [
       "Gender\n",
       "Female    0.56\n",
       "Male      0.44\n",
       "Name: proportion, dtype: float64"
      ]
     },
     "execution_count": 69,
     "metadata": {},
     "output_type": "execute_result"
    }
   ],
   "source": [
    "data['Gender'].value_counts(normalize=True)"
   ]
  },
  {
   "cell_type": "markdown",
   "id": "ec5282b8-be53-4b6e-a38d-3ec7e48bb506",
   "metadata": {},
   "source": [
    "<div style='background-color:#595758;padding:1rem;margin:3rem 0;border-radius:0.5rem;'>\n",
    "    <p style='color:#FFEEF2;font-weight:400;font-size:1.3rem;display:inline;'>The ratio is 56%. Females spending more money compared to men.</p>\n",
    "</div>"
   ]
  },
  {
   "cell_type": "markdown",
   "id": "a1ac9ed5-9be0-4981-ac40-90d743b1db41",
   "metadata": {},
   "source": [
    "<div>\n",
    "    <h2 style='color:#1e555c;font-weight:bold;font-size:1rem;'>Age</h2>\n",
    "</div>"
   ]
  },
  {
   "cell_type": "code",
   "execution_count": 70,
   "id": "6a5f3963-7cf6-457a-b3aa-44446989cd77",
   "metadata": {},
   "outputs": [
    {
     "data": {
      "text/plain": [
       "array([19, 21, 20, 23, 31, 22, 35, 64, 30, 67, 58, 24, 37, 52, 25, 46, 54,\n",
       "       29, 45, 40, 60, 53, 18, 49, 42, 36, 65, 48, 50, 27, 33, 59, 47, 51,\n",
       "       69, 70, 63, 43, 68, 32, 26, 57, 38, 55, 34, 66, 39, 44, 28, 56, 41],\n",
       "      dtype=int64)"
      ]
     },
     "execution_count": 70,
     "metadata": {},
     "output_type": "execute_result"
    }
   ],
   "source": [
    "data['Age'].unique()"
   ]
  },
  {
   "cell_type": "markdown",
   "id": "36b6c00c-bbd3-4521-9d81-796049337f2f",
   "metadata": {},
   "source": [
    "<div style='background-color:#595758;padding:1rem;margin:3rem 0;border-radius:0.5rem;'>\n",
    "    <p style='color:#FFEEF2;font-weight:400;font-size:1.3rem;display:inline;'>A range of values. Let's dive deeper.</p>\n",
    "</div>"
   ]
  },
  {
   "cell_type": "code",
   "execution_count": 71,
   "id": "5c050ac4-6b8e-4098-8677-aa50cdf3d4ab",
   "metadata": {},
   "outputs": [
    {
     "data": {
      "text/plain": [
       "count    200.000000\n",
       "mean      38.850000\n",
       "std       13.969007\n",
       "min       18.000000\n",
       "25%       28.750000\n",
       "50%       36.000000\n",
       "75%       49.000000\n",
       "max       70.000000\n",
       "Name: Age, dtype: float64"
      ]
     },
     "execution_count": 71,
     "metadata": {},
     "output_type": "execute_result"
    }
   ],
   "source": [
    "data['Age'].describe()"
   ]
  },
  {
   "cell_type": "markdown",
   "id": "f63c3ae8-c727-42bf-b9ec-75e998c6f5ba",
   "metadata": {},
   "source": [
    "<div style='background-color:#595758;padding:1rem;margin:3rem 0;border-radius:0.5rem;'>\n",
    "    <p style='color:#FFEEF2;font-weight:400;font-size:1.3rem;display:inline;'>Minimum age is 18 and maximum age is 70.</p>\n",
    "</div>"
   ]
  },
  {
   "cell_type": "code",
   "execution_count": 72,
   "id": "00fc576c-0a7b-45c0-93c1-a7a20ed0d47f",
   "metadata": {},
   "outputs": [
    {
     "data": {
      "image/png": "[encoded data removed]",
      "text/plain": [
       "<Figure size 640x480 with 1 Axes>"
      ]
     },
     "metadata": {},
     "output_type": "display_data"
    }
   ],
   "source": [
    "sns.histplot(data['Age'], bins=10, kde=True)\n",
    "plt.title('Distribution of Age')\n",
    "plt.xlabel('Age range')\n",
    "plt.ylabel('Frequency')\n",
    "plt.show()"
   ]
  },
  {
   "cell_type": "markdown",
   "id": "f33c050a-a3cc-49da-b403-4b630f989fc4",
   "metadata": {},
   "source": [
    "<div style='background-color:#595758;padding:1rem;margin:3rem 0;border-radius:0.5rem;'>\n",
    "    <p style='color:#FFEEF2;font-weight:400;font-size:1.3rem;display:inline;'>The peak age where people tend to spend more is the age between 25 to 40. As the age increase, the spending habit decreases.</p>\n",
    "</div>"
   ]
  },
  {
   "cell_type": "markdown",
   "id": "b4cba4fa-7fa7-46ca-ba5e-34efe46e889f",
   "metadata": {},
   "source": [
    "<div>\n",
    "    <h2 style='color:#1e555c;font-weight:bold;font-size:1rem;'>Annual Income</h2>\n",
    "</div>"
   ]
  },
  {
   "cell_type": "code",
   "execution_count": 73,
   "id": "583aa5c7-c621-4458-87b5-1c05d384a383",
   "metadata": {},
   "outputs": [
    {
     "data": {
      "text/plain": [
       "array([ 15,  16,  17,  18,  19,  20,  21,  23,  24,  25,  28,  29,  30,\n",
       "        33,  34,  37,  38,  39,  40,  42,  43,  44,  46,  47,  48,  49,\n",
       "        50,  54,  57,  58,  59,  60,  61,  62,  63,  64,  65,  67,  69,\n",
       "        70,  71,  72,  73,  74,  75,  76,  77,  78,  79,  81,  85,  86,\n",
       "        87,  88,  93,  97,  98,  99, 101, 103, 113, 120, 126, 137],\n",
       "      dtype=int64)"
      ]
     },
     "execution_count": 73,
     "metadata": {},
     "output_type": "execute_result"
    }
   ],
   "source": [
    "data['Annual Income (k$)'].unique()"
   ]
  },
  {
   "cell_type": "code",
   "execution_count": 74,
   "id": "1bd79009-33f5-46ca-aa70-6d5920d7f334",
   "metadata": {},
   "outputs": [
    {
     "data": {
      "text/plain": [
       "count    200.000000\n",
       "mean      60.560000\n",
       "std       26.264721\n",
       "min       15.000000\n",
       "25%       41.500000\n",
       "50%       61.500000\n",
       "75%       78.000000\n",
       "max      137.000000\n",
       "Name: Annual Income (k$), dtype: float64"
      ]
     },
     "execution_count": 74,
     "metadata": {},
     "output_type": "execute_result"
    }
   ],
   "source": [
    "data['Annual Income (k$)'].describe()"
   ]
  },
  {
   "cell_type": "markdown",
   "id": "d2eeb480-36ed-4ecf-8ed3-006b88ecde96",
   "metadata": {},
   "source": [
    "<div style='background-color:#595758;padding:1rem;margin:3rem 0;border-radius:0.5rem;'>\n",
    "    <p style='color:#FFEEF2;font-weight:400;font-size:1.3rem;display:inline;'>Annual income is between 15 thousand dollars to 137 thousand dollars.</p>\n",
    "</div>"
   ]
  },
  {
   "cell_type": "code",
   "execution_count": 75,
   "id": "825e0de1-5ba1-44f1-8320-eb8be55f0035",
   "metadata": {},
   "outputs": [
    {
     "data": {
      "image/png": "[encoded data removed]",
      "text/plain": [
       "<Figure size 640x480 with 1 Axes>"
      ]
     },
     "metadata": {},
     "output_type": "display_data"
    }
   ],
   "source": [
    "sns.histplot(data['Annual Income (k$)'], bins=10, kde=True)\n",
    "plt.title('Distribution of Annual Income')\n",
    "plt.xlabel('Annual income range')\n",
    "plt.ylabel('Frequency')\n",
    "plt.show()"
   ]
  },
  {
   "cell_type": "markdown",
   "id": "aba86053-5d11-44a8-a45c-5cf4c006466e",
   "metadata": {},
   "source": [
    "<div style='background-color:#595758;padding:1rem;margin:3rem 0;border-radius:0.5rem;'>\n",
    "    <p style='color:#FFEEF2;font-weight:400;font-size:1.3rem;display:inline;'>People earn between the range of 20 to 80 thousand dollars.</p>\n",
    "</div>"
   ]
  },
  {
   "cell_type": "markdown",
   "id": "9a745f5a-ce14-46cf-9add-b76c391511be",
   "metadata": {},
   "source": [
    "<div>\n",
    "    <h2 style='color:#1e555c;font-weight:bold;font-size:1rem;'>Spending Score</h2>\n",
    "</div>"
   ]
  },
  {
   "cell_type": "code",
   "execution_count": 76,
   "id": "89fb5796-dd75-4988-ae99-e91d91d31f8f",
   "metadata": {},
   "outputs": [
    {
     "data": {
      "text/plain": [
       "array([39, 81,  6, 77, 40, 76, 94,  3, 72, 14, 99, 15, 13, 79, 35, 66, 29,\n",
       "       98, 73,  5, 82, 32, 61, 31, 87,  4, 92, 17, 26, 75, 36, 28, 65, 55,\n",
       "       47, 42, 52, 60, 54, 45, 41, 50, 46, 51, 56, 59, 48, 49, 53, 44, 57,\n",
       "       58, 43, 91, 95, 11,  9, 34, 71, 88,  7, 10, 93, 12, 97, 74, 22, 90,\n",
       "       20, 16, 89,  1, 78, 83, 27, 63, 86, 69, 24, 68, 85, 23,  8, 18],\n",
       "      dtype=int64)"
      ]
     },
     "execution_count": 76,
     "metadata": {},
     "output_type": "execute_result"
    }
   ],
   "source": [
    "data['Spending Score (1-100)'].unique()"
   ]
  },
  {
   "cell_type": "code",
   "execution_count": 77,
   "id": "67da6f93-d44b-47f1-94e4-f30b3f02db95",
   "metadata": {},
   "outputs": [
    {
     "data": {
      "text/plain": [
       "count    200.000000\n",
       "mean      50.200000\n",
       "std       25.823522\n",
       "min        1.000000\n",
       "25%       34.750000\n",
       "50%       50.000000\n",
       "75%       73.000000\n",
       "max       99.000000\n",
       "Name: Spending Score (1-100), dtype: float64"
      ]
     },
     "execution_count": 77,
     "metadata": {},
     "output_type": "execute_result"
    }
   ],
   "source": [
    "data['Spending Score (1-100)'].describe()"
   ]
  },
  {
   "cell_type": "markdown",
   "id": "d8166516-8fa5-4b4e-b56a-e0e3b4f18f50",
   "metadata": {},
   "source": [
    "<div style='background-color:#595758;padding:1rem;margin:3rem 0;border-radius:0.5rem;'>\n",
    "    <p style='color:#FFEEF2;font-weight:400;font-size:1.3rem;display:inline;'>The spending score tells us how much people are willing to spend. For example, a score of 1 shows the spending habit of someone who is unwilling to spend, whereas a score of 100 shows the spending habit of a generous person. A score of 50 will tell us a person who spends moderately.</p>\n",
    "</div>"
   ]
  },
  {
   "cell_type": "code",
   "execution_count": 78,
   "id": "12a8f3a8-bf97-4e4e-a190-ca4c2e0780fc",
   "metadata": {},
   "outputs": [
    {
     "data": {
      "image/png": "[encoded data removed]",
      "text/plain": [
       "<Figure size 640x480 with 1 Axes>"
      ]
     },
     "metadata": {},
     "output_type": "display_data"
    }
   ],
   "source": [
    "sns.histplot(data['Spending Score (1-100)'], bins=10, kde=True)\n",
    "plt.title('Distribution of Spending Score')\n",
    "plt.xlabel('Spending score range')\n",
    "plt.ylabel('Frequency')\n",
    "plt.show()"
   ]
  },
  {
   "cell_type": "markdown",
   "id": "6d68c2f1-b979-4f41-842d-3b2e09490954",
   "metadata": {},
   "source": [
    "<div style='background-color:#595758;padding:1rem;margin:3rem 0;border-radius:0.5rem;'>\n",
    "    <p style='color:#FFEEF2;font-weight:400;font-size:1.3rem;display:inline;'>Most people have moderate spending style.</p>\n",
    "</div>"
   ]
  },
  {
   "cell_type": "markdown",
   "id": "866eb1a3-035a-42bf-a1bb-4545c3615a3f",
   "metadata": {},
   "source": [
    "<hr style=\"border-top: 2px solid #333;margin:30px 0;\">"
   ]
  },
  {
   "cell_type": "markdown",
   "id": "cffdc574-165b-4298-a895-b39f88bc0ece",
   "metadata": {},
   "source": [
    "<div>\n",
    "    <h2 style='color:#1e555c;font-weight:bold;font-size:1.5rem;padding:1rem 0;'>Data Cleaning</h2>\n",
    "</div>"
   ]
  },
  {
   "cell_type": "markdown",
   "id": "33de10b9-715e-4f3d-81db-23a306efff8d",
   "metadata": {},
   "source": [
    "<div>\n",
    "    <h2 style='color:#1e555c;font-weight:bold;font-size:1rem;'>Checking for NULL values</h2>\n",
    "</div>"
   ]
  },
  {
   "cell_type": "code",
   "execution_count": 79,
   "id": "a0d21552-6919-465d-89ea-a67a5964541e",
   "metadata": {},
   "outputs": [
    {
     "data": {
      "text/plain": [
       "CustomerID                0\n",
       "Gender                    0\n",
       "Age                       0\n",
       "Annual Income (k$)        0\n",
       "Spending Score (1-100)    0\n",
       "dtype: int64"
      ]
     },
     "execution_count": 79,
     "metadata": {},
     "output_type": "execute_result"
    }
   ],
   "source": [
    "data.isnull().sum()"
   ]
  },
  {
   "cell_type": "markdown",
   "id": "04911988-643d-46a1-8ac0-661f48292f50",
   "metadata": {},
   "source": [
    "<div style='background-color:#595758;padding:1rem;margin:3rem 0;border-radius:0.5rem;'>\n",
    "    <p style='color:#FFEEF2;font-weight:400;font-size:1.3rem;display:inline;'>No NULL values in the data.</p>\n",
    "</div>"
   ]
  },
  {
   "cell_type": "markdown",
   "id": "dcd917d3-7da8-48a0-abc0-6ce49449ae46",
   "metadata": {},
   "source": [
    "<div>\n",
    "    <h2 style='color:#1e555c;font-weight:bold;font-size:1rem;'>Checking for Duplicate values</h2>\n",
    "</div>"
   ]
  },
  {
   "cell_type": "code",
   "execution_count": 80,
   "id": "624a48f4-129f-45cf-a809-bf086ac0a668",
   "metadata": {},
   "outputs": [
    {
     "data": {
      "text/plain": [
       "0"
      ]
     },
     "execution_count": 80,
     "metadata": {},
     "output_type": "execute_result"
    }
   ],
   "source": [
    "data.duplicated().sum()"
   ]
  },
  {
   "cell_type": "markdown",
   "id": "ba0d7334-bc13-469b-abf9-88334ec9c1ac",
   "metadata": {},
   "source": [
    "<div style='background-color:#595758;padding:1rem;margin:3rem 0;border-radius:0.5rem;'>\n",
    "    <p style='color:#FFEEF2;font-weight:400;font-size:1.3rem;display:inline;'>No duplicate values in the data.</p>\n",
    "</div>"
   ]
  },
  {
   "cell_type": "markdown",
   "id": "ad9dcf95-cec9-4974-b676-36eb1204764a",
   "metadata": {},
   "source": [
    "<hr style=\"border-top: 2px solid #333;margin:30px 0;\">"
   ]
  },
  {
   "cell_type": "markdown",
   "id": "2f9dfad1-4538-4808-921c-3750bda617fe",
   "metadata": {},
   "source": [
    "<div>\n",
    "    <h2 style='color:#1e555c;font-weight:bold;font-size:1.5rem;padding:1rem 0;'>Extracting the features from the data</h2>\n",
    "</div>"
   ]
  },
  {
   "cell_type": "markdown",
   "id": "14bf0763-62b9-4b73-82f3-f59624e8bc0a",
   "metadata": {},
   "source": [
    "<div>\n",
    "    <h2 style='color:#1e555c;font-weight:bold;font-size:1rem;'>We will extract only the two columns from the data that we will be using for clustering.</h2>\n",
    "</div>"
   ]
  },
  {
   "cell_type": "code",
   "execution_count": 81,
   "id": "990a7b7b-51a6-4b02-a742-7ad022feb83f",
   "metadata": {},
   "outputs": [],
   "source": [
    "x = data.iloc[:, [3, 4]].values"
   ]
  },
  {
   "cell_type": "code",
   "execution_count": 82,
   "id": "a6f9c69b-c062-45c2-81c3-bdb719a8f1a6",
   "metadata": {},
   "outputs": [
    {
     "data": {
      "text/plain": [
       "array([[ 15,  39],\n",
       "       [ 15,  81],\n",
       "       [ 16,   6],\n",
       "       [ 16,  77],\n",
       "       [ 17,  40],\n",
       "       [ 17,  76],\n",
       "       [ 18,   6],\n",
       "       [ 18,  94],\n",
       "       [ 19,   3],\n",
       "       [ 19,  72],\n",
       "       [ 19,  14],\n",
       "       [ 19,  99],\n",
       "       [ 20,  15],\n",
       "       [ 20,  77],\n",
       "       [ 20,  13],\n",
       "       [ 20,  79],\n",
       "       [ 21,  35],\n",
       "       [ 21,  66],\n",
       "       [ 23,  29],\n",
       "       [ 23,  98],\n",
       "       [ 24,  35],\n",
       "       [ 24,  73],\n",
       "       [ 25,   5],\n",
       "       [ 25,  73],\n",
       "       [ 28,  14],\n",
       "       [ 28,  82],\n",
       "       [ 28,  32],\n",
       "       [ 28,  61],\n",
       "       [ 29,  31],\n",
       "       [ 29,  87],\n",
       "       [ 30,   4],\n",
       "       [ 30,  73],\n",
       "       [ 33,   4],\n",
       "       [ 33,  92],\n",
       "       [ 33,  14],\n",
       "       [ 33,  81],\n",
       "       [ 34,  17],\n",
       "       [ 34,  73],\n",
       "       [ 37,  26],\n",
       "       [ 37,  75],\n",
       "       [ 38,  35],\n",
       "       [ 38,  92],\n",
       "       [ 39,  36],\n",
       "       [ 39,  61],\n",
       "       [ 39,  28],\n",
       "       [ 39,  65],\n",
       "       [ 40,  55],\n",
       "       [ 40,  47],\n",
       "       [ 40,  42],\n",
       "       [ 40,  42],\n",
       "       [ 42,  52],\n",
       "       [ 42,  60],\n",
       "       [ 43,  54],\n",
       "       [ 43,  60],\n",
       "       [ 43,  45],\n",
       "       [ 43,  41],\n",
       "       [ 44,  50],\n",
       "       [ 44,  46],\n",
       "       [ 46,  51],\n",
       "       [ 46,  46],\n",
       "       [ 46,  56],\n",
       "       [ 46,  55],\n",
       "       [ 47,  52],\n",
       "       [ 47,  59],\n",
       "       [ 48,  51],\n",
       "       [ 48,  59],\n",
       "       [ 48,  50],\n",
       "       [ 48,  48],\n",
       "       [ 48,  59],\n",
       "       [ 48,  47],\n",
       "       [ 49,  55],\n",
       "       [ 49,  42],\n",
       "       [ 50,  49],\n",
       "       [ 50,  56],\n",
       "       [ 54,  47],\n",
       "       [ 54,  54],\n",
       "       [ 54,  53],\n",
       "       [ 54,  48],\n",
       "       [ 54,  52],\n",
       "       [ 54,  42],\n",
       "       [ 54,  51],\n",
       "       [ 54,  55],\n",
       "       [ 54,  41],\n",
       "       [ 54,  44],\n",
       "       [ 54,  57],\n",
       "       [ 54,  46],\n",
       "       [ 57,  58],\n",
       "       [ 57,  55],\n",
       "       [ 58,  60],\n",
       "       [ 58,  46],\n",
       "       [ 59,  55],\n",
       "       [ 59,  41],\n",
       "       [ 60,  49],\n",
       "       [ 60,  40],\n",
       "       [ 60,  42],\n",
       "       [ 60,  52],\n",
       "       [ 60,  47],\n",
       "       [ 60,  50],\n",
       "       [ 61,  42],\n",
       "       [ 61,  49],\n",
       "       [ 62,  41],\n",
       "       [ 62,  48],\n",
       "       [ 62,  59],\n",
       "       [ 62,  55],\n",
       "       [ 62,  56],\n",
       "       [ 62,  42],\n",
       "       [ 63,  50],\n",
       "       [ 63,  46],\n",
       "       [ 63,  43],\n",
       "       [ 63,  48],\n",
       "       [ 63,  52],\n",
       "       [ 63,  54],\n",
       "       [ 64,  42],\n",
       "       [ 64,  46],\n",
       "       [ 65,  48],\n",
       "       [ 65,  50],\n",
       "       [ 65,  43],\n",
       "       [ 65,  59],\n",
       "       [ 67,  43],\n",
       "       [ 67,  57],\n",
       "       [ 67,  56],\n",
       "       [ 67,  40],\n",
       "       [ 69,  58],\n",
       "       [ 69,  91],\n",
       "       [ 70,  29],\n",
       "       [ 70,  77],\n",
       "       [ 71,  35],\n",
       "       [ 71,  95],\n",
       "       [ 71,  11],\n",
       "       [ 71,  75],\n",
       "       [ 71,   9],\n",
       "       [ 71,  75],\n",
       "       [ 72,  34],\n",
       "       [ 72,  71],\n",
       "       [ 73,   5],\n",
       "       [ 73,  88],\n",
       "       [ 73,   7],\n",
       "       [ 73,  73],\n",
       "       [ 74,  10],\n",
       "       [ 74,  72],\n",
       "       [ 75,   5],\n",
       "       [ 75,  93],\n",
       "       [ 76,  40],\n",
       "       [ 76,  87],\n",
       "       [ 77,  12],\n",
       "       [ 77,  97],\n",
       "       [ 77,  36],\n",
       "       [ 77,  74],\n",
       "       [ 78,  22],\n",
       "       [ 78,  90],\n",
       "       [ 78,  17],\n",
       "       [ 78,  88],\n",
       "       [ 78,  20],\n",
       "       [ 78,  76],\n",
       "       [ 78,  16],\n",
       "       [ 78,  89],\n",
       "       [ 78,   1],\n",
       "       [ 78,  78],\n",
       "       [ 78,   1],\n",
       "       [ 78,  73],\n",
       "       [ 79,  35],\n",
       "       [ 79,  83],\n",
       "       [ 81,   5],\n",
       "       [ 81,  93],\n",
       "       [ 85,  26],\n",
       "       [ 85,  75],\n",
       "       [ 86,  20],\n",
       "       [ 86,  95],\n",
       "       [ 87,  27],\n",
       "       [ 87,  63],\n",
       "       [ 87,  13],\n",
       "       [ 87,  75],\n",
       "       [ 87,  10],\n",
       "       [ 87,  92],\n",
       "       [ 88,  13],\n",
       "       [ 88,  86],\n",
       "       [ 88,  15],\n",
       "       [ 88,  69],\n",
       "       [ 93,  14],\n",
       "       [ 93,  90],\n",
       "       [ 97,  32],\n",
       "       [ 97,  86],\n",
       "       [ 98,  15],\n",
       "       [ 98,  88],\n",
       "       [ 99,  39],\n",
       "       [ 99,  97],\n",
       "       [101,  24],\n",
       "       [101,  68],\n",
       "       [103,  17],\n",
       "       [103,  85],\n",
       "       [103,  23],\n",
       "       [103,  69],\n",
       "       [113,   8],\n",
       "       [113,  91],\n",
       "       [120,  16],\n",
       "       [120,  79],\n",
       "       [126,  28],\n",
       "       [126,  74],\n",
       "       [137,  18],\n",
       "       [137,  83]], dtype=int64)"
      ]
     },
     "execution_count": 82,
     "metadata": {},
     "output_type": "execute_result"
    }
   ],
   "source": [
    "x"
   ]
  },
  {
   "cell_type": "markdown",
   "id": "88213874-6c74-4146-b242-23f189c77a6a",
   "metadata": {},
   "source": [
    "<div style='background-color:#595758;padding:1rem;margin:3rem 0;border-radius:0.5rem;'>\n",
    "    <p style='color:#FFEEF2;font-weight:400;font-size:1.3rem;display:inline;'>The spending score column and the annual income column is picked out.</p>\n",
    "</div>"
   ]
  },
  {
   "cell_type": "markdown",
   "id": "f84ad769-fada-4ec2-8205-4520910aa0d8",
   "metadata": {},
   "source": [
    "<div>\n",
    "    <h2 style='color:#1e555c;font-weight:bold;font-size:1rem;'>Now we have to find out the optimal number of clusters for our data. For this, we have to record the values of inertia(sum of squared distances of samples to their closest cluster center) in a list for each number of clusters.</h2>\n",
    "</div>"
   ]
  },
  {
   "cell_type": "code",
   "execution_count": 83,
   "id": "0fa092a2-696a-4632-9f42-4a63524ffba9",
   "metadata": {},
   "outputs": [],
   "source": [
    "list = []\n",
    "\n",
    "for i in range(1, 11):\n",
    "    kmeans_object = KMeans(n_clusters=i, init='k-means++')\n",
    "    kmeans_object.fit(x)\n",
    "    list.append(kmeans_object.inertia_)"
   ]
  },
  {
   "cell_type": "markdown",
   "id": "1b8d1f18-a856-40b7-86e5-4b9b819aa238",
   "metadata": {},
   "source": [
    "<div>\n",
    "    <h2 style='color:#1e555c;font-weight:bold;font-size:1rem;'>Now we will visualize this list.</h2>\n",
    "</div>"
   ]
  },
  {
   "cell_type": "code",
   "execution_count": 84,
   "id": "572d5130-8557-4837-9a18-142ea509c8b1",
   "metadata": {},
   "outputs": [
    {
     "data": {
      "image/png": "[encoded data removed]",
      "text/plain": [
       "<Figure size 640x480 with 1 Axes>"
      ]
     },
     "metadata": {},
     "output_type": "display_data"
    }
   ],
   "source": [
    "sns.set()\n",
    "plt.plot(range(1, 11), list)\n",
    "plt.show()"
   ]
  },
  {
   "cell_type": "markdown",
   "id": "2a6ed272-0c44-4bfa-9e37-48eda3320030",
   "metadata": {},
   "source": [
    "<div style='background-color:#595758;padding:1rem;margin:3rem 0;border-radius:0.5rem;'>\n",
    "    <p style='color:#FFEEF2;font-weight:400;font-size:1.3rem;display:inline;'>We can observe two breakpoints. These tell us that the optimal number of clusters will be either 3 or 5. We will go for 5.</p>\n",
    "</div>"
   ]
  },
  {
   "cell_type": "markdown",
   "id": "cda95c68-041a-4bff-930b-f538352c8198",
   "metadata": {},
   "source": [
    "<div>\n",
    "    <h2 style='color:#1e555c;font-weight:bold;font-size:1rem;'>Now we will train our K-Means model for 5 clusters.</h2>\n",
    "</div>"
   ]
  },
  {
   "cell_type": "code",
   "execution_count": 85,
   "id": "4abc7d53-d246-4c69-9283-65786fa38684",
   "metadata": {},
   "outputs": [],
   "source": [
    "kmeans_object = KMeans(n_clusters=5, init='k-means++')"
   ]
  },
  {
   "cell_type": "markdown",
   "id": "5943fc66-0096-40c8-b73b-b94b21532d9f",
   "metadata": {},
   "source": [
    "<div>\n",
    "    <h2 style='color:#1e555c;font-weight:bold;font-size:1rem;'>Our model will predict some labels for our input features. We will store it in our variable y.</h2>\n",
    "</div>"
   ]
  },
  {
   "cell_type": "code",
   "execution_count": 86,
   "id": "a4120fac-68f4-4aa2-aeaa-328a6bfd196d",
   "metadata": {},
   "outputs": [],
   "source": [
    "y = kmeans_object.fit_predict(x)"
   ]
  },
  {
   "cell_type": "code",
   "execution_count": 87,
   "id": "3e8105e6-7b4d-40a2-8458-607280ba335f",
   "metadata": {},
   "outputs": [
    {
     "data": {
      "text/plain": [
       "array([3, 4, 3, 4, 3, 4, 3, 4, 3, 4, 3, 4, 3, 4, 3, 4, 3, 4, 3, 4, 3, 4,\n",
       "       3, 4, 3, 4, 3, 4, 3, 4, 3, 4, 3, 4, 3, 4, 3, 4, 3, 4, 3, 4, 3, 1,\n",
       "       3, 4, 1, 1, 1, 1, 1, 1, 1, 1, 1, 1, 1, 1, 1, 1, 1, 1, 1, 1, 1, 1,\n",
       "       1, 1, 1, 1, 1, 1, 1, 1, 1, 1, 1, 1, 1, 1, 1, 1, 1, 1, 1, 1, 1, 1,\n",
       "       1, 1, 1, 1, 1, 1, 1, 1, 1, 1, 1, 1, 1, 1, 1, 1, 1, 1, 1, 1, 1, 1,\n",
       "       1, 1, 1, 1, 1, 1, 1, 1, 1, 1, 1, 1, 1, 2, 0, 2, 1, 2, 0, 2, 0, 2,\n",
       "       0, 2, 0, 2, 0, 2, 0, 2, 0, 2, 1, 2, 0, 2, 0, 2, 0, 2, 0, 2, 0, 2,\n",
       "       0, 2, 0, 2, 0, 2, 0, 2, 0, 2, 0, 2, 0, 2, 0, 2, 0, 2, 0, 2, 0, 2,\n",
       "       0, 2, 0, 2, 0, 2, 0, 2, 0, 2, 0, 2, 0, 2, 0, 2, 0, 2, 0, 2, 0, 2,\n",
       "       0, 2])"
      ]
     },
     "execution_count": 87,
     "metadata": {},
     "output_type": "execute_result"
    }
   ],
   "source": [
    "y"
   ]
  },
  {
   "cell_type": "markdown",
   "id": "282a4010-9f7b-4a0d-aebc-c1386c542a9c",
   "metadata": {},
   "source": [
    "<div style='background-color:#595758;padding:1rem;margin:3rem 0;border-radius:0.5rem;'>\n",
    "    <p style='color:#FFEEF2;font-weight:400;font-size:1.3rem;display:inline;'>These are our labels. It is a set of 200 values.</p>\n",
    "</div>"
   ]
  },
  {
   "cell_type": "markdown",
   "id": "4d9b56a6-b840-4497-858e-23c45a0b5976",
   "metadata": {},
   "source": [
    "<hr style=\"border-top: 2px solid #333;margin:30px 0;\">"
   ]
  },
  {
   "cell_type": "markdown",
   "id": "c020b956-93be-4152-845a-658fbc0b1db7",
   "metadata": {},
   "source": [
    "<div>\n",
    "    <h2 style='color:#1e555c;font-weight:bold;font-size:1.5rem;padding:1rem 0;'>Visualizing our clusters</h2>\n",
    "</div>"
   ]
  },
  {
   "cell_type": "code",
   "execution_count": 88,
   "id": "ba975f2b-aaef-4cb8-9bc1-1a0ed6847dff",
   "metadata": {},
   "outputs": [
    {
     "data": {
      "image/png": "[encoded data removed]",
      "text/plain": [
       "<Figure size 640x480 with 1 Axes>"
      ]
     },
     "metadata": {},
     "output_type": "display_data"
    }
   ],
   "source": [
    "plt.figure()\n",
    "plt.scatter(x[y==0, 0], x[y==0, 1], s=50, color='green', label='Cluster 1')\n",
    "plt.scatter(x[y==1, 0], x[y==1, 1], s=50, color='red', label='Cluster 2')\n",
    "plt.scatter(x[y==2, 0], x[y==2, 1], s=50, color='blue', label='Cluster 3')\n",
    "plt.scatter(x[y==3, 0], x[y==3, 1], s=50, color='yellow', label='Cluster 4')\n",
    "plt.scatter(x[y==4, 0], x[y==4, 1], s=50, color='pink', label='Cluster 5')\n",
    "\n",
    "plt.scatter(kmeans_object.cluster_centers_[:,0], kmeans_object.cluster_centers_[:,1], s=100, color='black', label='Centroid')\n",
    "\n",
    "plt.show()"
   ]
  },
  {
   "cell_type": "markdown",
   "id": "bcb836ee-1c7f-4bc4-88de-02b7192fb2be",
   "metadata": {},
   "source": [
    "<div style='background-color:#595758;padding:1rem;margin:3rem 0;border-radius:0.5rem;'>\n",
    "    <p style='color:#FFEEF2;font-weight:400;font-size:1.3rem;display:inline;'>These are our visualized 5 clusters, visualized through 5 different colors, with the black dots representing the Centroids. These centroids or center points show the middle row or the axis along which the other points of the data of the similar cluster are closest according to Euclidean distance.</p>\n",
    "</div>"
   ]
  },
  {
   "cell_type": "markdown",
   "id": "6a3d53c9-07a3-4530-9caa-07b3ab68d7ba",
   "metadata": {},
   "source": [
    "<hr style=\"border-top: 2px solid #333;margin:30px 0;\">"
   ]
  }
 ],
 "metadata": {
  "kernelspec": {
   "display_name": "Python 3 (ipykernel)",
   "language": "python",
   "name": "python3"
  },
  "language_info": {
   "codemirror_mode": {
    "name": "ipython",
    "version": 3
   },
   "file_extension": ".py",
   "mimetype": "text/x-python",
   "name": "python",
   "nbconvert_exporter": "python",
   "pygments_lexer": "ipython3",
   "version": "3.12.4"
  }
 },
 "nbformat": 4,
 "nbformat_minor": 5
}
